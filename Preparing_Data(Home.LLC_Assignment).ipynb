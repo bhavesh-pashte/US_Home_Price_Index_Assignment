{
 "cells": [
  {
   "cell_type": "markdown",
   "id": "62fc5f8e",
   "metadata": {},
   "source": [
    "# Assignment for Quantitative Analyst - Intern at Home.LLC\n",
    "\n",
    "### Task\n",
    "Find publicly available data for key factors that influence US home prices nationally. \n",
    "\n",
    "Then, build a data science model that explains how these factors impacted home prices over the last 20 years."
   ]
  },
  {
   "cell_type": "markdown",
   "id": "bed1c1bd",
   "metadata": {},
   "source": [
    "## Approach\n",
    "\n",
    " 1) Data Collection\n",
    "\n",
    " 2) Data Preprocessing\n",
    "\n",
    " 3) EDA & Building data science model (Machine Learning Model)\n",
    "\n",
    " 4) Analyse the Results"
   ]
  },
  {
   "cell_type": "markdown",
   "id": "71434cab",
   "metadata": {},
   "source": [
    "### 1. Data Collection\n",
    "Firstly, to determine the key factors that influence US Home Prices nationally, a thorough research was conducted.\n",
    "\n",
    "Few sites and published papers were referred and some basic assumptions were made to find out the following key factors:\n",
    "\n",
    "Articles Referred: https://www.sciencedirect.com/science/article/pii/S2666764923000383#:~:text=This%20study%20identifies%20eight%20economic,S%26P%20500%2C%20and%20government%20expenditure.\n",
    "\n",
    "https://utkarshsinghx27.medium.com/exploring-the-impact-of-supply-demand-factors-on-us-home-prices-a-20-year-analysis-467b17447c21\n",
    "\n",
    "https://www.westernasset.com/us/en/research/blog/deciphering-factors-that-impact-the-us-housing-market-2024-03-13.cfm\n",
    "\n",
    "#### 1) CPI - One of the most popular measures of inflation and deflation. It is a measure of the average change over time in the prices paid by urban consumers for a market basket of consumer goods and services.\n",
    "\n",
    "\n",
    "#### 2) Federal Funds Rate - It is the interest rate at which depository institutions lend reserve balances to other depository institutions overnight on an uncollateralized basis.\n",
    "\n",
    "\n",
    "#### 3) Real GDP - It is an inflation-adjusted measure that reflects the value of all goods and services produced by an economy in a given year.\n",
    "\n",
    "\n",
    "#### 4) Real Disposable Income per capita - It determines an individual's ability to purchase goods or services.\n",
    "\n",
    "\n",
    "#### 5) Mortgage Rate - It is the interest rate charged for a home loan.\n",
    "\n",
    "\n",
    "#### 6) Population\n",
    "\n",
    "\n",
    "#### 7) S&P 500 - It is a stock market index tracking the stock performance of 500 of the largest companies listed on stock exchanges in the United States.\n",
    "\n",
    "\n",
    "#### 8) Unemployment Rate \n",
    "\n",
    "#### S&P US Case-Shiller Home Price Index as a proxy for home prices.\n",
    "\n",
    "\n",
    "The data for above factors was obtained from following websites:\n",
    "https://fred.stlouisfed.org/series/\n",
    "\n",
    "https://www.spglobal.com/marketintelligence/en/mi/products/us-monthly-gdp-index.html\n",
    "\n",
    "https://finance.yahoo.com/quote/%5EGSPC/history/?guccounter=1&guce_referrer=aHR0cHM6Ly93d3cuZ29vZ2xlLmNvbS8&guce_referrer_sig=AQAAABhPBaxqA-t4rzetBd4ax0Qxoad29mqpo0-zKsbOntahO8RW5Qx8X7DOQsRuPBbxfR6AmvfOIEXNgS2BWGRoIzBxq4GrCf1HbbppRe3I7UUJDUBk809N5oHLyGXCOjVhx9bu0DWYsR8YKHEXZ5SuJzc7moBUIfxJtj7Ngw9bmic0&frequency=1mo&period1=694224000&period2=1717848110\n"
   ]
  },
  {
   "cell_type": "markdown",
   "id": "910a9083",
   "metadata": {},
   "source": [
    "### 2. Data Preprocessing\n",
    "\n",
    "To make data ready for analysis, preprocessing techniques such as cleaning, transforming, and integrating of data are performed which are described further in the notebook. \n",
    "\n",
    "The data collected from various sources is combined to form a single dataframe for efficient analysis and model building.\n",
    "\n",
    "#### Since we're interested to find the impact in last 20 years, we'll be considering the data from 1st Jan 2004 to 1st Dec 2023.\n",
    "\n",
    "#### The US Case-Shiller Home Price Inded is Monthly data, hence we'll be transforming data to monthly wherever necessary"
   ]
  },
  {
   "cell_type": "markdown",
   "id": "d3073d45",
   "metadata": {},
   "source": [
    "### 3. EDA & Building data science model (Machine Learning Model)\n",
    "\n",
    "Included in Model_Building.ipynb notebook\n",
    "\n",
    "Exploratory Data Analysis is performed on the data to gain more insights and to learn hidden patterns present in the data.  \n",
    "\n"
   ]
  },
  {
   "cell_type": "markdown",
   "id": "bc9904a4",
   "metadata": {},
   "source": [
    "### 4. Analyse the results\n",
    "\n",
    "Determine how each factor has historically impacted home prices.\n",
    "\n",
    "Evaluate the overall performance of your model using metrics like R-squared, Mean Absolute Error (MAE), and Root Mean Squared Error (RMSE).\n",
    "\n",
    "Understanding Coefficients (For Linear Models)\n",
    "\n",
    "Feature Importance (For Tree-based Models)\n"
   ]
  },
  {
   "cell_type": "code",
   "execution_count": null,
   "id": "cd1982ee",
   "metadata": {},
   "outputs": [],
   "source": []
  },
  {
   "cell_type": "code",
   "execution_count": 152,
   "id": "d9a33661",
   "metadata": {},
   "outputs": [],
   "source": [
    "import pandas as pd\n",
    "import numpy as np\n",
    "import matplotlib.pyplot as plt\n",
    "import warnings\n",
    "warnings.filterwarnings('ignore')"
   ]
  },
  {
   "cell_type": "markdown",
   "id": "2403a438",
   "metadata": {},
   "source": [
    "#### Preprocessing Case-Shiller U.S. National Home Price Index Data"
   ]
  },
  {
   "cell_type": "code",
   "execution_count": 3,
   "id": "090e5204",
   "metadata": {},
   "outputs": [
    {
     "data": {
      "text/html": [
       "<div>\n",
       "<style scoped>\n",
       "    .dataframe tbody tr th:only-of-type {\n",
       "        vertical-align: middle;\n",
       "    }\n",
       "\n",
       "    .dataframe tbody tr th {\n",
       "        vertical-align: top;\n",
       "    }\n",
       "\n",
       "    .dataframe thead th {\n",
       "        text-align: right;\n",
       "    }\n",
       "</style>\n",
       "<table border=\"1\" class=\"dataframe\">\n",
       "  <thead>\n",
       "    <tr style=\"text-align: right;\">\n",
       "      <th></th>\n",
       "      <th>DATE</th>\n",
       "      <th>CSUSHPISA</th>\n",
       "    </tr>\n",
       "  </thead>\n",
       "  <tbody>\n",
       "    <tr>\n",
       "      <th>0</th>\n",
       "      <td>1987-01-01</td>\n",
       "      <td>63.965</td>\n",
       "    </tr>\n",
       "    <tr>\n",
       "      <th>1</th>\n",
       "      <td>1987-02-01</td>\n",
       "      <td>64.425</td>\n",
       "    </tr>\n",
       "    <tr>\n",
       "      <th>2</th>\n",
       "      <td>1987-03-01</td>\n",
       "      <td>64.735</td>\n",
       "    </tr>\n",
       "    <tr>\n",
       "      <th>3</th>\n",
       "      <td>1987-04-01</td>\n",
       "      <td>65.132</td>\n",
       "    </tr>\n",
       "    <tr>\n",
       "      <th>4</th>\n",
       "      <td>1987-05-01</td>\n",
       "      <td>65.564</td>\n",
       "    </tr>\n",
       "  </tbody>\n",
       "</table>\n",
       "</div>"
      ],
      "text/plain": [
       "         DATE  CSUSHPISA\n",
       "0  1987-01-01     63.965\n",
       "1  1987-02-01     64.425\n",
       "2  1987-03-01     64.735\n",
       "3  1987-04-01     65.132\n",
       "4  1987-05-01     65.564"
      ]
     },
     "execution_count": 3,
     "metadata": {},
     "output_type": "execute_result"
    }
   ],
   "source": [
    "data = pd.read_csv(\"CSUSHPISA.csv\")\n",
    "data.head()"
   ]
  },
  {
   "cell_type": "code",
   "execution_count": 4,
   "id": "c69a5dc4",
   "metadata": {},
   "outputs": [
    {
     "name": "stdout",
     "output_type": "stream",
     "text": [
      "<class 'pandas.core.frame.DataFrame'>\n",
      "RangeIndex: 447 entries, 0 to 446\n",
      "Data columns (total 2 columns):\n",
      " #   Column     Non-Null Count  Dtype  \n",
      "---  ------     --------------  -----  \n",
      " 0   DATE       447 non-null    object \n",
      " 1   CSUSHPISA  447 non-null    float64\n",
      "dtypes: float64(1), object(1)\n",
      "memory usage: 7.1+ KB\n"
     ]
    }
   ],
   "source": [
    "data.info()"
   ]
  },
  {
   "cell_type": "code",
   "execution_count": 5,
   "id": "37834494",
   "metadata": {},
   "outputs": [],
   "source": [
    "# Converting the data type of DATE column to datetime \n",
    "data['DATE'] = pd.to_datetime(data['DATE'], format='%Y-%m-%d')\n",
    "\n",
    "# Filtering the DataFrame to keep only 20 years data\n",
    "start_date = '2004-01-01'\n",
    "end_date = '2023-12-01'\n",
    "CSHPI = data[(data['DATE'] >= start_date) & (data['DATE'] <= end_date)]\n"
   ]
  },
  {
   "cell_type": "code",
   "execution_count": 8,
   "id": "f5adabda",
   "metadata": {},
   "outputs": [
    {
     "data": {
      "text/html": [
       "<div>\n",
       "<style scoped>\n",
       "    .dataframe tbody tr th:only-of-type {\n",
       "        vertical-align: middle;\n",
       "    }\n",
       "\n",
       "    .dataframe tbody tr th {\n",
       "        vertical-align: top;\n",
       "    }\n",
       "\n",
       "    .dataframe thead th {\n",
       "        text-align: right;\n",
       "    }\n",
       "</style>\n",
       "<table border=\"1\" class=\"dataframe\">\n",
       "  <thead>\n",
       "    <tr style=\"text-align: right;\">\n",
       "      <th></th>\n",
       "      <th>DATE</th>\n",
       "      <th>CSUSHPISA</th>\n",
       "    </tr>\n",
       "  </thead>\n",
       "  <tbody>\n",
       "    <tr>\n",
       "      <th>204</th>\n",
       "      <td>2004-01-01</td>\n",
       "      <td>141.646</td>\n",
       "    </tr>\n",
       "    <tr>\n",
       "      <th>205</th>\n",
       "      <td>2004-02-01</td>\n",
       "      <td>143.191</td>\n",
       "    </tr>\n",
       "    <tr>\n",
       "      <th>206</th>\n",
       "      <td>2004-03-01</td>\n",
       "      <td>145.058</td>\n",
       "    </tr>\n",
       "    <tr>\n",
       "      <th>207</th>\n",
       "      <td>2004-04-01</td>\n",
       "      <td>146.592</td>\n",
       "    </tr>\n",
       "    <tr>\n",
       "      <th>208</th>\n",
       "      <td>2004-05-01</td>\n",
       "      <td>148.185</td>\n",
       "    </tr>\n",
       "  </tbody>\n",
       "</table>\n",
       "</div>"
      ],
      "text/plain": [
       "          DATE  CSUSHPISA\n",
       "204 2004-01-01    141.646\n",
       "205 2004-02-01    143.191\n",
       "206 2004-03-01    145.058\n",
       "207 2004-04-01    146.592\n",
       "208 2004-05-01    148.185"
      ]
     },
     "execution_count": 8,
     "metadata": {},
     "output_type": "execute_result"
    }
   ],
   "source": [
    "CSHPI.head()"
   ]
  },
  {
   "cell_type": "code",
   "execution_count": 9,
   "id": "cabb486e",
   "metadata": {},
   "outputs": [
    {
     "name": "stdout",
     "output_type": "stream",
     "text": [
      "<class 'pandas.core.frame.DataFrame'>\n",
      "Index: 240 entries, 204 to 443\n",
      "Data columns (total 2 columns):\n",
      " #   Column     Non-Null Count  Dtype         \n",
      "---  ------     --------------  -----         \n",
      " 0   DATE       240 non-null    datetime64[ns]\n",
      " 1   CSUSHPISA  240 non-null    float64       \n",
      "dtypes: datetime64[ns](1), float64(1)\n",
      "memory usage: 5.6 KB\n"
     ]
    }
   ],
   "source": [
    "CSHPI.info()"
   ]
  },
  {
   "cell_type": "code",
   "execution_count": null,
   "id": "99ccede0",
   "metadata": {},
   "outputs": [],
   "source": []
  },
  {
   "cell_type": "markdown",
   "id": "3774090f",
   "metadata": {},
   "source": [
    "#### Preprocessing Consumer Price Index data"
   ]
  },
  {
   "cell_type": "code",
   "execution_count": 10,
   "id": "775fa897",
   "metadata": {},
   "outputs": [
    {
     "data": {
      "text/html": [
       "<div>\n",
       "<style scoped>\n",
       "    .dataframe tbody tr th:only-of-type {\n",
       "        vertical-align: middle;\n",
       "    }\n",
       "\n",
       "    .dataframe tbody tr th {\n",
       "        vertical-align: top;\n",
       "    }\n",
       "\n",
       "    .dataframe thead th {\n",
       "        text-align: right;\n",
       "    }\n",
       "</style>\n",
       "<table border=\"1\" class=\"dataframe\">\n",
       "  <thead>\n",
       "    <tr style=\"text-align: right;\">\n",
       "      <th></th>\n",
       "      <th>DATE</th>\n",
       "      <th>CPIAUCSL</th>\n",
       "    </tr>\n",
       "  </thead>\n",
       "  <tbody>\n",
       "    <tr>\n",
       "      <th>0</th>\n",
       "      <td>1947-01-01</td>\n",
       "      <td>21.48</td>\n",
       "    </tr>\n",
       "    <tr>\n",
       "      <th>1</th>\n",
       "      <td>1947-02-01</td>\n",
       "      <td>21.62</td>\n",
       "    </tr>\n",
       "    <tr>\n",
       "      <th>2</th>\n",
       "      <td>1947-03-01</td>\n",
       "      <td>22.00</td>\n",
       "    </tr>\n",
       "    <tr>\n",
       "      <th>3</th>\n",
       "      <td>1947-04-01</td>\n",
       "      <td>22.00</td>\n",
       "    </tr>\n",
       "    <tr>\n",
       "      <th>4</th>\n",
       "      <td>1947-05-01</td>\n",
       "      <td>21.95</td>\n",
       "    </tr>\n",
       "  </tbody>\n",
       "</table>\n",
       "</div>"
      ],
      "text/plain": [
       "         DATE  CPIAUCSL\n",
       "0  1947-01-01     21.48\n",
       "1  1947-02-01     21.62\n",
       "2  1947-03-01     22.00\n",
       "3  1947-04-01     22.00\n",
       "4  1947-05-01     21.95"
      ]
     },
     "execution_count": 10,
     "metadata": {},
     "output_type": "execute_result"
    }
   ],
   "source": [
    "#Consumer Price Index\n",
    "data = pd.read_csv(\"CPIAUCSL.csv\")\n",
    "data.head()"
   ]
  },
  {
   "cell_type": "code",
   "execution_count": 11,
   "id": "fa8b56bf",
   "metadata": {},
   "outputs": [
    {
     "name": "stdout",
     "output_type": "stream",
     "text": [
      "<class 'pandas.core.frame.DataFrame'>\n",
      "RangeIndex: 928 entries, 0 to 927\n",
      "Data columns (total 2 columns):\n",
      " #   Column    Non-Null Count  Dtype  \n",
      "---  ------    --------------  -----  \n",
      " 0   DATE      928 non-null    object \n",
      " 1   CPIAUCSL  928 non-null    float64\n",
      "dtypes: float64(1), object(1)\n",
      "memory usage: 14.6+ KB\n"
     ]
    }
   ],
   "source": [
    "data.info()"
   ]
  },
  {
   "cell_type": "code",
   "execution_count": 12,
   "id": "efb5051b",
   "metadata": {},
   "outputs": [],
   "source": [
    "# Converting the data type of DATE column to datetime \n",
    "data['DATE'] = pd.to_datetime(data['DATE'], format='%Y-%m-%d')\n",
    "\n",
    "# Filtering the DataFrame to keep only 20 years data\n",
    "start_date = '2004-01-01'\n",
    "end_date = '2023-12-01'\n",
    "CPI = data[(data['DATE'] >= start_date) & (data['DATE'] <= end_date)]"
   ]
  },
  {
   "cell_type": "code",
   "execution_count": 14,
   "id": "946585b3",
   "metadata": {},
   "outputs": [
    {
     "data": {
      "text/html": [
       "<div>\n",
       "<style scoped>\n",
       "    .dataframe tbody tr th:only-of-type {\n",
       "        vertical-align: middle;\n",
       "    }\n",
       "\n",
       "    .dataframe tbody tr th {\n",
       "        vertical-align: top;\n",
       "    }\n",
       "\n",
       "    .dataframe thead th {\n",
       "        text-align: right;\n",
       "    }\n",
       "</style>\n",
       "<table border=\"1\" class=\"dataframe\">\n",
       "  <thead>\n",
       "    <tr style=\"text-align: right;\">\n",
       "      <th></th>\n",
       "      <th>DATE</th>\n",
       "      <th>CPIAUCSL</th>\n",
       "    </tr>\n",
       "  </thead>\n",
       "  <tbody>\n",
       "    <tr>\n",
       "      <th>919</th>\n",
       "      <td>2023-08-01</td>\n",
       "      <td>306.187</td>\n",
       "    </tr>\n",
       "    <tr>\n",
       "      <th>920</th>\n",
       "      <td>2023-09-01</td>\n",
       "      <td>307.288</td>\n",
       "    </tr>\n",
       "    <tr>\n",
       "      <th>921</th>\n",
       "      <td>2023-10-01</td>\n",
       "      <td>307.531</td>\n",
       "    </tr>\n",
       "    <tr>\n",
       "      <th>922</th>\n",
       "      <td>2023-11-01</td>\n",
       "      <td>308.024</td>\n",
       "    </tr>\n",
       "    <tr>\n",
       "      <th>923</th>\n",
       "      <td>2023-12-01</td>\n",
       "      <td>308.742</td>\n",
       "    </tr>\n",
       "  </tbody>\n",
       "</table>\n",
       "</div>"
      ],
      "text/plain": [
       "          DATE  CPIAUCSL\n",
       "919 2023-08-01   306.187\n",
       "920 2023-09-01   307.288\n",
       "921 2023-10-01   307.531\n",
       "922 2023-11-01   308.024\n",
       "923 2023-12-01   308.742"
      ]
     },
     "execution_count": 14,
     "metadata": {},
     "output_type": "execute_result"
    }
   ],
   "source": [
    "CPI.tail()"
   ]
  },
  {
   "cell_type": "code",
   "execution_count": null,
   "id": "d2b95f9f",
   "metadata": {},
   "outputs": [],
   "source": []
  },
  {
   "cell_type": "markdown",
   "id": "ae9e53a9",
   "metadata": {},
   "source": [
    "#### Preprocessing Federal Funds Rate data"
   ]
  },
  {
   "cell_type": "code",
   "execution_count": 15,
   "id": "87d34ed2",
   "metadata": {},
   "outputs": [
    {
     "data": {
      "text/html": [
       "<div>\n",
       "<style scoped>\n",
       "    .dataframe tbody tr th:only-of-type {\n",
       "        vertical-align: middle;\n",
       "    }\n",
       "\n",
       "    .dataframe tbody tr th {\n",
       "        vertical-align: top;\n",
       "    }\n",
       "\n",
       "    .dataframe thead th {\n",
       "        text-align: right;\n",
       "    }\n",
       "</style>\n",
       "<table border=\"1\" class=\"dataframe\">\n",
       "  <thead>\n",
       "    <tr style=\"text-align: right;\">\n",
       "      <th></th>\n",
       "      <th>DATE</th>\n",
       "      <th>FEDFUNDS</th>\n",
       "    </tr>\n",
       "  </thead>\n",
       "  <tbody>\n",
       "    <tr>\n",
       "      <th>0</th>\n",
       "      <td>1954-07-01</td>\n",
       "      <td>0.80</td>\n",
       "    </tr>\n",
       "    <tr>\n",
       "      <th>1</th>\n",
       "      <td>1954-08-01</td>\n",
       "      <td>1.22</td>\n",
       "    </tr>\n",
       "    <tr>\n",
       "      <th>2</th>\n",
       "      <td>1954-09-01</td>\n",
       "      <td>1.07</td>\n",
       "    </tr>\n",
       "    <tr>\n",
       "      <th>3</th>\n",
       "      <td>1954-10-01</td>\n",
       "      <td>0.85</td>\n",
       "    </tr>\n",
       "    <tr>\n",
       "      <th>4</th>\n",
       "      <td>1954-11-01</td>\n",
       "      <td>0.83</td>\n",
       "    </tr>\n",
       "  </tbody>\n",
       "</table>\n",
       "</div>"
      ],
      "text/plain": [
       "         DATE  FEDFUNDS\n",
       "0  1954-07-01      0.80\n",
       "1  1954-08-01      1.22\n",
       "2  1954-09-01      1.07\n",
       "3  1954-10-01      0.85\n",
       "4  1954-11-01      0.83"
      ]
     },
     "execution_count": 15,
     "metadata": {},
     "output_type": "execute_result"
    }
   ],
   "source": [
    "#Federal Funds Rate (Interest Rate)\n",
    "data = pd.read_csv(\"FEDFUNDS.csv\")\n",
    "data.head()"
   ]
  },
  {
   "cell_type": "code",
   "execution_count": 16,
   "id": "339a6800",
   "metadata": {},
   "outputs": [
    {
     "name": "stdout",
     "output_type": "stream",
     "text": [
      "<class 'pandas.core.frame.DataFrame'>\n",
      "RangeIndex: 839 entries, 0 to 838\n",
      "Data columns (total 2 columns):\n",
      " #   Column    Non-Null Count  Dtype  \n",
      "---  ------    --------------  -----  \n",
      " 0   DATE      839 non-null    object \n",
      " 1   FEDFUNDS  839 non-null    float64\n",
      "dtypes: float64(1), object(1)\n",
      "memory usage: 13.2+ KB\n"
     ]
    }
   ],
   "source": [
    "data.info()"
   ]
  },
  {
   "cell_type": "code",
   "execution_count": 17,
   "id": "718491f1",
   "metadata": {},
   "outputs": [],
   "source": [
    "# Converting the data type of DATE column to datetime \n",
    "data['DATE'] = pd.to_datetime(data['DATE'], format='%Y-%m-%d')\n",
    "\n",
    "# Filtering the DataFrame to keep only 20 years data\n",
    "start_date = '2004-01-01'\n",
    "end_date = '2023-12-01'\n",
    "FEDFND = data[(data['DATE'] >= start_date) & (data['DATE'] <= end_date)]"
   ]
  },
  {
   "cell_type": "code",
   "execution_count": 19,
   "id": "971ed0e3",
   "metadata": {},
   "outputs": [
    {
     "data": {
      "text/html": [
       "<div>\n",
       "<style scoped>\n",
       "    .dataframe tbody tr th:only-of-type {\n",
       "        vertical-align: middle;\n",
       "    }\n",
       "\n",
       "    .dataframe tbody tr th {\n",
       "        vertical-align: top;\n",
       "    }\n",
       "\n",
       "    .dataframe thead th {\n",
       "        text-align: right;\n",
       "    }\n",
       "</style>\n",
       "<table border=\"1\" class=\"dataframe\">\n",
       "  <thead>\n",
       "    <tr style=\"text-align: right;\">\n",
       "      <th></th>\n",
       "      <th>DATE</th>\n",
       "      <th>FEDFUNDS</th>\n",
       "    </tr>\n",
       "  </thead>\n",
       "  <tbody>\n",
       "    <tr>\n",
       "      <th>829</th>\n",
       "      <td>2023-08-01</td>\n",
       "      <td>5.33</td>\n",
       "    </tr>\n",
       "    <tr>\n",
       "      <th>830</th>\n",
       "      <td>2023-09-01</td>\n",
       "      <td>5.33</td>\n",
       "    </tr>\n",
       "    <tr>\n",
       "      <th>831</th>\n",
       "      <td>2023-10-01</td>\n",
       "      <td>5.33</td>\n",
       "    </tr>\n",
       "    <tr>\n",
       "      <th>832</th>\n",
       "      <td>2023-11-01</td>\n",
       "      <td>5.33</td>\n",
       "    </tr>\n",
       "    <tr>\n",
       "      <th>833</th>\n",
       "      <td>2023-12-01</td>\n",
       "      <td>5.33</td>\n",
       "    </tr>\n",
       "  </tbody>\n",
       "</table>\n",
       "</div>"
      ],
      "text/plain": [
       "          DATE  FEDFUNDS\n",
       "829 2023-08-01      5.33\n",
       "830 2023-09-01      5.33\n",
       "831 2023-10-01      5.33\n",
       "832 2023-11-01      5.33\n",
       "833 2023-12-01      5.33"
      ]
     },
     "execution_count": 19,
     "metadata": {},
     "output_type": "execute_result"
    }
   ],
   "source": [
    "FEDFND.tail()"
   ]
  },
  {
   "cell_type": "code",
   "execution_count": null,
   "id": "b8044604",
   "metadata": {},
   "outputs": [],
   "source": []
  },
  {
   "cell_type": "markdown",
   "id": "c5131ba0",
   "metadata": {},
   "source": [
    "#### Preprocessing Monthly GDP Data"
   ]
  },
  {
   "cell_type": "code",
   "execution_count": 153,
   "id": "75e8775a",
   "metadata": {},
   "outputs": [
    {
     "data": {
      "text/html": [
       "<div>\n",
       "<style scoped>\n",
       "    .dataframe tbody tr th:only-of-type {\n",
       "        vertical-align: middle;\n",
       "    }\n",
       "\n",
       "    .dataframe tbody tr th {\n",
       "        vertical-align: top;\n",
       "    }\n",
       "\n",
       "    .dataframe thead th {\n",
       "        text-align: right;\n",
       "    }\n",
       "</style>\n",
       "<table border=\"1\" class=\"dataframe\">\n",
       "  <thead>\n",
       "    <tr style=\"text-align: right;\">\n",
       "      <th></th>\n",
       "      <th>Unnamed: 0</th>\n",
       "      <th>Monthly Nominal GDP Index</th>\n",
       "      <th>Monthly Real GDP Index</th>\n",
       "      <th>Unnamed: 3</th>\n",
       "      <th>Unnamed: 4</th>\n",
       "    </tr>\n",
       "  </thead>\n",
       "  <tbody>\n",
       "    <tr>\n",
       "      <th>0</th>\n",
       "      <td>1992 - Jan</td>\n",
       "      <td>6315.725</td>\n",
       "      <td>10177.827</td>\n",
       "      <td>NaN</td>\n",
       "      <td>NaN</td>\n",
       "    </tr>\n",
       "    <tr>\n",
       "      <th>1</th>\n",
       "      <td>1992 - Feb</td>\n",
       "      <td>6356.505</td>\n",
       "      <td>10222.906</td>\n",
       "      <td>NaN</td>\n",
       "      <td>NaN</td>\n",
       "    </tr>\n",
       "    <tr>\n",
       "      <th>2</th>\n",
       "      <td>1992 - Mar</td>\n",
       "      <td>6417.077</td>\n",
       "      <td>10307.949</td>\n",
       "      <td>NaN</td>\n",
       "      <td>NaN</td>\n",
       "    </tr>\n",
       "    <tr>\n",
       "      <th>3</th>\n",
       "      <td>1992 - Apr</td>\n",
       "      <td>6443.256</td>\n",
       "      <td>10314.307</td>\n",
       "      <td>NaN</td>\n",
       "      <td>NaN</td>\n",
       "    </tr>\n",
       "    <tr>\n",
       "      <th>4</th>\n",
       "      <td>1992 - May</td>\n",
       "      <td>6433.810</td>\n",
       "      <td>10293.475</td>\n",
       "      <td>NaN</td>\n",
       "      <td>NaN</td>\n",
       "    </tr>\n",
       "  </tbody>\n",
       "</table>\n",
       "</div>"
      ],
      "text/plain": [
       "   Unnamed: 0  Monthly Nominal GDP Index  Monthly Real GDP Index  Unnamed: 3  \\\n",
       "0  1992 - Jan                   6315.725               10177.827         NaN   \n",
       "1  1992 - Feb                   6356.505               10222.906         NaN   \n",
       "2  1992 - Mar                   6417.077               10307.949         NaN   \n",
       "3  1992 - Apr                   6443.256               10314.307         NaN   \n",
       "4  1992 - May                   6433.810               10293.475         NaN   \n",
       "\n",
       "   Unnamed: 4  \n",
       "0         NaN  \n",
       "1         NaN  \n",
       "2         NaN  \n",
       "3         NaN  \n",
       "4         NaN  "
      ]
     },
     "execution_count": 153,
     "metadata": {},
     "output_type": "execute_result"
    }
   ],
   "source": [
    "#Monthly Real GDP\n",
    "data = pd.read_csv(\"MonthlyGDP_US.csv\")\n",
    "data.head()"
   ]
  },
  {
   "cell_type": "markdown",
   "id": "2f32740c",
   "metadata": {},
   "source": [
    "The format of date (Unnamed: 0) column is not ideal. Hence we'll be taking necessary steps to make it suitable for further analysis."
   ]
  },
  {
   "cell_type": "code",
   "execution_count": 154,
   "id": "0b57bb5b",
   "metadata": {},
   "outputs": [
    {
     "name": "stdout",
     "output_type": "stream",
     "text": [
      "<class 'pandas.core.frame.DataFrame'>\n",
      "RangeIndex: 395 entries, 0 to 394\n",
      "Data columns (total 5 columns):\n",
      " #   Column                     Non-Null Count  Dtype  \n",
      "---  ------                     --------------  -----  \n",
      " 0   Unnamed: 0                 385 non-null    object \n",
      " 1   Monthly Nominal GDP Index  385 non-null    float64\n",
      " 2   Monthly Real GDP Index     385 non-null    float64\n",
      " 3   Unnamed: 3                 0 non-null      float64\n",
      " 4   Unnamed: 4                 0 non-null      float64\n",
      "dtypes: float64(4), object(1)\n",
      "memory usage: 15.6+ KB\n"
     ]
    }
   ],
   "source": [
    "data.info()"
   ]
  },
  {
   "cell_type": "code",
   "execution_count": 155,
   "id": "2532dff8",
   "metadata": {},
   "outputs": [],
   "source": [
    "data.rename(columns = {'Unnamed: 0':'DATE'}, inplace = True)"
   ]
  },
  {
   "cell_type": "code",
   "execution_count": 156,
   "id": "51a88a8e",
   "metadata": {},
   "outputs": [],
   "source": [
    "data.drop(['Unnamed: 3', 'Unnamed: 4', 'Monthly Nominal GDP Index'], axis=1, inplace= True)"
   ]
  },
  {
   "cell_type": "code",
   "execution_count": 157,
   "id": "7d150657",
   "metadata": {},
   "outputs": [
    {
     "data": {
      "text/html": [
       "<div>\n",
       "<style scoped>\n",
       "    .dataframe tbody tr th:only-of-type {\n",
       "        vertical-align: middle;\n",
       "    }\n",
       "\n",
       "    .dataframe tbody tr th {\n",
       "        vertical-align: top;\n",
       "    }\n",
       "\n",
       "    .dataframe thead th {\n",
       "        text-align: right;\n",
       "    }\n",
       "</style>\n",
       "<table border=\"1\" class=\"dataframe\">\n",
       "  <thead>\n",
       "    <tr style=\"text-align: right;\">\n",
       "      <th></th>\n",
       "      <th>DATE</th>\n",
       "      <th>Monthly Real GDP Index</th>\n",
       "    </tr>\n",
       "  </thead>\n",
       "  <tbody>\n",
       "    <tr>\n",
       "      <th>0</th>\n",
       "      <td>1992 - Jan</td>\n",
       "      <td>10177.827</td>\n",
       "    </tr>\n",
       "    <tr>\n",
       "      <th>1</th>\n",
       "      <td>1992 - Feb</td>\n",
       "      <td>10222.906</td>\n",
       "    </tr>\n",
       "    <tr>\n",
       "      <th>2</th>\n",
       "      <td>1992 - Mar</td>\n",
       "      <td>10307.949</td>\n",
       "    </tr>\n",
       "    <tr>\n",
       "      <th>3</th>\n",
       "      <td>1992 - Apr</td>\n",
       "      <td>10314.307</td>\n",
       "    </tr>\n",
       "    <tr>\n",
       "      <th>4</th>\n",
       "      <td>1992 - May</td>\n",
       "      <td>10293.475</td>\n",
       "    </tr>\n",
       "  </tbody>\n",
       "</table>\n",
       "</div>"
      ],
      "text/plain": [
       "         DATE  Monthly Real GDP Index\n",
       "0  1992 - Jan               10177.827\n",
       "1  1992 - Feb               10222.906\n",
       "2  1992 - Mar               10307.949\n",
       "3  1992 - Apr               10314.307\n",
       "4  1992 - May               10293.475"
      ]
     },
     "execution_count": 157,
     "metadata": {},
     "output_type": "execute_result"
    }
   ],
   "source": [
    "data.head()"
   ]
  },
  {
   "cell_type": "code",
   "execution_count": 158,
   "id": "3c5a23da",
   "metadata": {},
   "outputs": [
    {
     "data": {
      "text/plain": [
       "DATE                      10\n",
       "Monthly Real GDP Index    10\n",
       "dtype: int64"
      ]
     },
     "execution_count": 158,
     "metadata": {},
     "output_type": "execute_result"
    }
   ],
   "source": [
    "data.isna().sum()"
   ]
  },
  {
   "cell_type": "markdown",
   "id": "2cf7f116",
   "metadata": {},
   "source": [
    " There are null values in the dataset."
   ]
  },
  {
   "cell_type": "code",
   "execution_count": 159,
   "id": "8104000c",
   "metadata": {},
   "outputs": [
    {
     "data": {
      "text/html": [
       "<div>\n",
       "<style scoped>\n",
       "    .dataframe tbody tr th:only-of-type {\n",
       "        vertical-align: middle;\n",
       "    }\n",
       "\n",
       "    .dataframe tbody tr th {\n",
       "        vertical-align: top;\n",
       "    }\n",
       "\n",
       "    .dataframe thead th {\n",
       "        text-align: right;\n",
       "    }\n",
       "</style>\n",
       "<table border=\"1\" class=\"dataframe\">\n",
       "  <thead>\n",
       "    <tr style=\"text-align: right;\">\n",
       "      <th></th>\n",
       "      <th>DATE</th>\n",
       "      <th>Monthly Real GDP Index</th>\n",
       "    </tr>\n",
       "  </thead>\n",
       "  <tbody>\n",
       "    <tr>\n",
       "      <th>0</th>\n",
       "      <td>1992 - Jan</td>\n",
       "      <td>10177.827</td>\n",
       "    </tr>\n",
       "    <tr>\n",
       "      <th>1</th>\n",
       "      <td>1992 - Feb</td>\n",
       "      <td>10222.906</td>\n",
       "    </tr>\n",
       "    <tr>\n",
       "      <th>2</th>\n",
       "      <td>1992 - Mar</td>\n",
       "      <td>10307.949</td>\n",
       "    </tr>\n",
       "    <tr>\n",
       "      <th>3</th>\n",
       "      <td>1992 - Apr</td>\n",
       "      <td>10314.307</td>\n",
       "    </tr>\n",
       "    <tr>\n",
       "      <th>4</th>\n",
       "      <td>1992 - May</td>\n",
       "      <td>10293.475</td>\n",
       "    </tr>\n",
       "    <tr>\n",
       "      <th>...</th>\n",
       "      <td>...</td>\n",
       "      <td>...</td>\n",
       "    </tr>\n",
       "    <tr>\n",
       "      <th>390</th>\n",
       "      <td>NaN</td>\n",
       "      <td>NaN</td>\n",
       "    </tr>\n",
       "    <tr>\n",
       "      <th>391</th>\n",
       "      <td>NaN</td>\n",
       "      <td>NaN</td>\n",
       "    </tr>\n",
       "    <tr>\n",
       "      <th>392</th>\n",
       "      <td>NaN</td>\n",
       "      <td>NaN</td>\n",
       "    </tr>\n",
       "    <tr>\n",
       "      <th>393</th>\n",
       "      <td>NaN</td>\n",
       "      <td>NaN</td>\n",
       "    </tr>\n",
       "    <tr>\n",
       "      <th>394</th>\n",
       "      <td>NaN</td>\n",
       "      <td>NaN</td>\n",
       "    </tr>\n",
       "  </tbody>\n",
       "</table>\n",
       "<p>395 rows × 2 columns</p>\n",
       "</div>"
      ],
      "text/plain": [
       "           DATE  Monthly Real GDP Index\n",
       "0    1992 - Jan               10177.827\n",
       "1    1992 - Feb               10222.906\n",
       "2    1992 - Mar               10307.949\n",
       "3    1992 - Apr               10314.307\n",
       "4    1992 - May               10293.475\n",
       "..          ...                     ...\n",
       "390         NaN                     NaN\n",
       "391         NaN                     NaN\n",
       "392         NaN                     NaN\n",
       "393         NaN                     NaN\n",
       "394         NaN                     NaN\n",
       "\n",
       "[395 rows x 2 columns]"
      ]
     },
     "execution_count": 159,
     "metadata": {},
     "output_type": "execute_result"
    }
   ],
   "source": [
    "data"
   ]
  },
  {
   "cell_type": "code",
   "execution_count": 160,
   "id": "bfdbab74",
   "metadata": {},
   "outputs": [],
   "source": [
    "# dropping the rows with null values in the dataset\n",
    "data = data.dropna()"
   ]
  },
  {
   "cell_type": "code",
   "execution_count": 161,
   "id": "aa57c66f",
   "metadata": {},
   "outputs": [
    {
     "data": {
      "text/plain": [
       "DATE                      0\n",
       "Monthly Real GDP Index    0\n",
       "dtype: int64"
      ]
     },
     "execution_count": 161,
     "metadata": {},
     "output_type": "execute_result"
    }
   ],
   "source": [
    "data.isna().sum()"
   ]
  },
  {
   "cell_type": "markdown",
   "id": "024e7457",
   "metadata": {},
   "source": [
    "There is no loss of data after dropping the null values. As all null values were at last 10 rows of the dataset and not in between."
   ]
  },
  {
   "cell_type": "code",
   "execution_count": 162,
   "id": "fd26bc26",
   "metadata": {},
   "outputs": [],
   "source": [
    "from dateutil.parser import parse\n",
    "\n",
    "def convert_date(date_str):\n",
    "    # Appending ' -01' to the date string to make it YYYY - Mon -01\n",
    "    date_str_with_day = date_str + ' -01'\n",
    "    # Parsing the date string using dateutil.parser\n",
    "    return parse(date_str_with_day)\n",
    "\n",
    "# Applying the conversion function to the 'DATE' column\n",
    "data['DATE'] = data['DATE'].apply(convert_date)"
   ]
  },
  {
   "cell_type": "code",
   "execution_count": 163,
   "id": "80da2bb9",
   "metadata": {},
   "outputs": [
    {
     "data": {
      "text/html": [
       "<div>\n",
       "<style scoped>\n",
       "    .dataframe tbody tr th:only-of-type {\n",
       "        vertical-align: middle;\n",
       "    }\n",
       "\n",
       "    .dataframe tbody tr th {\n",
       "        vertical-align: top;\n",
       "    }\n",
       "\n",
       "    .dataframe thead th {\n",
       "        text-align: right;\n",
       "    }\n",
       "</style>\n",
       "<table border=\"1\" class=\"dataframe\">\n",
       "  <thead>\n",
       "    <tr style=\"text-align: right;\">\n",
       "      <th></th>\n",
       "      <th>DATE</th>\n",
       "      <th>Monthly Real GDP Index</th>\n",
       "    </tr>\n",
       "  </thead>\n",
       "  <tbody>\n",
       "    <tr>\n",
       "      <th>380</th>\n",
       "      <td>2023-09-01</td>\n",
       "      <td>22561.706</td>\n",
       "    </tr>\n",
       "    <tr>\n",
       "      <th>381</th>\n",
       "      <td>2023-10-01</td>\n",
       "      <td>22509.894</td>\n",
       "    </tr>\n",
       "    <tr>\n",
       "      <th>382</th>\n",
       "      <td>2023-11-01</td>\n",
       "      <td>22686.169</td>\n",
       "    </tr>\n",
       "    <tr>\n",
       "      <th>383</th>\n",
       "      <td>2023-12-01</td>\n",
       "      <td>22846.137</td>\n",
       "    </tr>\n",
       "    <tr>\n",
       "      <th>384</th>\n",
       "      <td>2024-01-01</td>\n",
       "      <td>22670.215</td>\n",
       "    </tr>\n",
       "  </tbody>\n",
       "</table>\n",
       "</div>"
      ],
      "text/plain": [
       "          DATE  Monthly Real GDP Index\n",
       "380 2023-09-01               22561.706\n",
       "381 2023-10-01               22509.894\n",
       "382 2023-11-01               22686.169\n",
       "383 2023-12-01               22846.137\n",
       "384 2024-01-01               22670.215"
      ]
     },
     "execution_count": 163,
     "metadata": {},
     "output_type": "execute_result"
    }
   ],
   "source": [
    "data.tail()"
   ]
  },
  {
   "cell_type": "code",
   "execution_count": 164,
   "id": "58c2ba7d",
   "metadata": {},
   "outputs": [],
   "source": [
    "data['DATE'] = pd.to_datetime(data['DATE'], format='%Y-%m-%d')\n",
    "\n",
    "# Filtering the DataFrame to keep only 20 years data\n",
    "start_date = '2004-01-01'\n",
    "end_date = '2023-12-01'\n",
    "RGDP = data[(data['DATE'] >= start_date) & (data['DATE'] <= end_date)]"
   ]
  },
  {
   "cell_type": "code",
   "execution_count": 165,
   "id": "29af7256",
   "metadata": {},
   "outputs": [
    {
     "data": {
      "text/html": [
       "<div>\n",
       "<style scoped>\n",
       "    .dataframe tbody tr th:only-of-type {\n",
       "        vertical-align: middle;\n",
       "    }\n",
       "\n",
       "    .dataframe tbody tr th {\n",
       "        vertical-align: top;\n",
       "    }\n",
       "\n",
       "    .dataframe thead th {\n",
       "        text-align: right;\n",
       "    }\n",
       "</style>\n",
       "<table border=\"1\" class=\"dataframe\">\n",
       "  <thead>\n",
       "    <tr style=\"text-align: right;\">\n",
       "      <th></th>\n",
       "      <th>DATE</th>\n",
       "      <th>Monthly Real GDP Index</th>\n",
       "    </tr>\n",
       "  </thead>\n",
       "  <tbody>\n",
       "    <tr>\n",
       "      <th>379</th>\n",
       "      <td>2023-08-01</td>\n",
       "      <td>22502.076</td>\n",
       "    </tr>\n",
       "    <tr>\n",
       "      <th>380</th>\n",
       "      <td>2023-09-01</td>\n",
       "      <td>22561.706</td>\n",
       "    </tr>\n",
       "    <tr>\n",
       "      <th>381</th>\n",
       "      <td>2023-10-01</td>\n",
       "      <td>22509.894</td>\n",
       "    </tr>\n",
       "    <tr>\n",
       "      <th>382</th>\n",
       "      <td>2023-11-01</td>\n",
       "      <td>22686.169</td>\n",
       "    </tr>\n",
       "    <tr>\n",
       "      <th>383</th>\n",
       "      <td>2023-12-01</td>\n",
       "      <td>22846.137</td>\n",
       "    </tr>\n",
       "  </tbody>\n",
       "</table>\n",
       "</div>"
      ],
      "text/plain": [
       "          DATE  Monthly Real GDP Index\n",
       "379 2023-08-01               22502.076\n",
       "380 2023-09-01               22561.706\n",
       "381 2023-10-01               22509.894\n",
       "382 2023-11-01               22686.169\n",
       "383 2023-12-01               22846.137"
      ]
     },
     "execution_count": 165,
     "metadata": {},
     "output_type": "execute_result"
    }
   ],
   "source": [
    "RGDP.tail()"
   ]
  },
  {
   "cell_type": "code",
   "execution_count": null,
   "id": "decafee1",
   "metadata": {},
   "outputs": [],
   "source": []
  },
  {
   "cell_type": "markdown",
   "id": "56a24ac1",
   "metadata": {},
   "source": [
    "#### Preprocessing Disposable Income Per Capita data"
   ]
  },
  {
   "cell_type": "code",
   "execution_count": 132,
   "id": "dfac2291",
   "metadata": {},
   "outputs": [
    {
     "data": {
      "text/html": [
       "<div>\n",
       "<style scoped>\n",
       "    .dataframe tbody tr th:only-of-type {\n",
       "        vertical-align: middle;\n",
       "    }\n",
       "\n",
       "    .dataframe tbody tr th {\n",
       "        vertical-align: top;\n",
       "    }\n",
       "\n",
       "    .dataframe thead th {\n",
       "        text-align: right;\n",
       "    }\n",
       "</style>\n",
       "<table border=\"1\" class=\"dataframe\">\n",
       "  <thead>\n",
       "    <tr style=\"text-align: right;\">\n",
       "      <th></th>\n",
       "      <th>DATE</th>\n",
       "      <th>A229RX0</th>\n",
       "    </tr>\n",
       "  </thead>\n",
       "  <tbody>\n",
       "    <tr>\n",
       "      <th>0</th>\n",
       "      <td>1959-01-01</td>\n",
       "      <td>13186.0</td>\n",
       "    </tr>\n",
       "    <tr>\n",
       "      <th>1</th>\n",
       "      <td>1959-02-01</td>\n",
       "      <td>13209.0</td>\n",
       "    </tr>\n",
       "    <tr>\n",
       "      <th>2</th>\n",
       "      <td>1959-03-01</td>\n",
       "      <td>13267.0</td>\n",
       "    </tr>\n",
       "    <tr>\n",
       "      <th>3</th>\n",
       "      <td>1959-04-01</td>\n",
       "      <td>13336.0</td>\n",
       "    </tr>\n",
       "    <tr>\n",
       "      <th>4</th>\n",
       "      <td>1959-05-01</td>\n",
       "      <td>13392.0</td>\n",
       "    </tr>\n",
       "  </tbody>\n",
       "</table>\n",
       "</div>"
      ],
      "text/plain": [
       "         DATE  A229RX0\n",
       "0  1959-01-01  13186.0\n",
       "1  1959-02-01  13209.0\n",
       "2  1959-03-01  13267.0\n",
       "3  1959-04-01  13336.0\n",
       "4  1959-05-01  13392.0"
      ]
     },
     "execution_count": 132,
     "metadata": {},
     "output_type": "execute_result"
    }
   ],
   "source": [
    "#Real Disposable Income Per Capita\n",
    "data = pd.read_csv('disposable_income.csv')\n",
    "data.head()"
   ]
  },
  {
   "cell_type": "code",
   "execution_count": 133,
   "id": "a3632ce0",
   "metadata": {},
   "outputs": [
    {
     "name": "stdout",
     "output_type": "stream",
     "text": [
      "<class 'pandas.core.frame.DataFrame'>\n",
      "RangeIndex: 784 entries, 0 to 783\n",
      "Data columns (total 2 columns):\n",
      " #   Column   Non-Null Count  Dtype  \n",
      "---  ------   --------------  -----  \n",
      " 0   DATE     784 non-null    object \n",
      " 1   A229RX0  784 non-null    float64\n",
      "dtypes: float64(1), object(1)\n",
      "memory usage: 12.4+ KB\n"
     ]
    }
   ],
   "source": [
    "data.info()"
   ]
  },
  {
   "cell_type": "code",
   "execution_count": 134,
   "id": "db82d50b",
   "metadata": {},
   "outputs": [],
   "source": [
    "data['DATE'] = pd.to_datetime(data['DATE'], format='%Y-%m-%d')\n",
    "\n",
    "# Filtering the DataFrame to keep only 20 years data\n",
    "start_date = '2004-01-01'\n",
    "end_date = '2023-12-01'\n",
    "DIncome = data[(data['DATE'] >= start_date) & (data['DATE'] <= end_date)]"
   ]
  },
  {
   "cell_type": "code",
   "execution_count": 141,
   "id": "2ad948a1",
   "metadata": {},
   "outputs": [],
   "source": [
    "DIncome.rename(columns={'A229RX0':'DIncome'}, inplace=True)"
   ]
  },
  {
   "cell_type": "code",
   "execution_count": 142,
   "id": "8615543a",
   "metadata": {},
   "outputs": [
    {
     "data": {
      "text/html": [
       "<div>\n",
       "<style scoped>\n",
       "    .dataframe tbody tr th:only-of-type {\n",
       "        vertical-align: middle;\n",
       "    }\n",
       "\n",
       "    .dataframe tbody tr th {\n",
       "        vertical-align: top;\n",
       "    }\n",
       "\n",
       "    .dataframe thead th {\n",
       "        text-align: right;\n",
       "    }\n",
       "</style>\n",
       "<table border=\"1\" class=\"dataframe\">\n",
       "  <thead>\n",
       "    <tr style=\"text-align: right;\">\n",
       "      <th></th>\n",
       "      <th>DATE</th>\n",
       "      <th>DIncome</th>\n",
       "    </tr>\n",
       "  </thead>\n",
       "  <tbody>\n",
       "    <tr>\n",
       "      <th>540</th>\n",
       "      <td>2004-01-01</td>\n",
       "      <td>37840.0</td>\n",
       "    </tr>\n",
       "    <tr>\n",
       "      <th>541</th>\n",
       "      <td>2004-02-01</td>\n",
       "      <td>37884.0</td>\n",
       "    </tr>\n",
       "    <tr>\n",
       "      <th>542</th>\n",
       "      <td>2004-03-01</td>\n",
       "      <td>38011.0</td>\n",
       "    </tr>\n",
       "    <tr>\n",
       "      <th>543</th>\n",
       "      <td>2004-04-01</td>\n",
       "      <td>38111.0</td>\n",
       "    </tr>\n",
       "    <tr>\n",
       "      <th>544</th>\n",
       "      <td>2004-05-01</td>\n",
       "      <td>38272.0</td>\n",
       "    </tr>\n",
       "  </tbody>\n",
       "</table>\n",
       "</div>"
      ],
      "text/plain": [
       "          DATE  DIncome\n",
       "540 2004-01-01  37840.0\n",
       "541 2004-02-01  37884.0\n",
       "542 2004-03-01  38011.0\n",
       "543 2004-04-01  38111.0\n",
       "544 2004-05-01  38272.0"
      ]
     },
     "execution_count": 142,
     "metadata": {},
     "output_type": "execute_result"
    }
   ],
   "source": [
    "DIncome.head()"
   ]
  },
  {
   "cell_type": "code",
   "execution_count": null,
   "id": "ebe976b7",
   "metadata": {},
   "outputs": [],
   "source": []
  },
  {
   "cell_type": "markdown",
   "id": "e3c9f1ad",
   "metadata": {},
   "source": [
    "#### Preprocessing Mortgage Rate data"
   ]
  },
  {
   "cell_type": "code",
   "execution_count": 169,
   "id": "e548af0c",
   "metadata": {},
   "outputs": [
    {
     "data": {
      "text/html": [
       "<div>\n",
       "<style scoped>\n",
       "    .dataframe tbody tr th:only-of-type {\n",
       "        vertical-align: middle;\n",
       "    }\n",
       "\n",
       "    .dataframe tbody tr th {\n",
       "        vertical-align: top;\n",
       "    }\n",
       "\n",
       "    .dataframe thead th {\n",
       "        text-align: right;\n",
       "    }\n",
       "</style>\n",
       "<table border=\"1\" class=\"dataframe\">\n",
       "  <thead>\n",
       "    <tr style=\"text-align: right;\">\n",
       "      <th></th>\n",
       "      <th>DATE</th>\n",
       "      <th>MORTGAGE30US</th>\n",
       "    </tr>\n",
       "  </thead>\n",
       "  <tbody>\n",
       "    <tr>\n",
       "      <th>0</th>\n",
       "      <td>1971-04-02</td>\n",
       "      <td>7.33</td>\n",
       "    </tr>\n",
       "    <tr>\n",
       "      <th>1</th>\n",
       "      <td>1971-04-09</td>\n",
       "      <td>7.31</td>\n",
       "    </tr>\n",
       "    <tr>\n",
       "      <th>2</th>\n",
       "      <td>1971-04-16</td>\n",
       "      <td>7.31</td>\n",
       "    </tr>\n",
       "    <tr>\n",
       "      <th>3</th>\n",
       "      <td>1971-04-23</td>\n",
       "      <td>7.31</td>\n",
       "    </tr>\n",
       "    <tr>\n",
       "      <th>4</th>\n",
       "      <td>1971-04-30</td>\n",
       "      <td>7.29</td>\n",
       "    </tr>\n",
       "  </tbody>\n",
       "</table>\n",
       "</div>"
      ],
      "text/plain": [
       "         DATE  MORTGAGE30US\n",
       "0  1971-04-02          7.33\n",
       "1  1971-04-09          7.31\n",
       "2  1971-04-16          7.31\n",
       "3  1971-04-23          7.31\n",
       "4  1971-04-30          7.29"
      ]
     },
     "execution_count": 169,
     "metadata": {},
     "output_type": "execute_result"
    }
   ],
   "source": [
    "#Mortgage rates\n",
    "data = pd.read_csv(\"MORTGAGE30US.csv\")\n",
    "data.head()"
   ]
  },
  {
   "cell_type": "markdown",
   "id": "c9523216",
   "metadata": {},
   "source": [
    "The Mortgage Rate data is recorded on weekly frequency and our target variable is of monthly frequency.\n",
    "\n",
    "We'll be taking mean of the weekly data to obtain Monthly average Mortgage Rate"
   ]
  },
  {
   "cell_type": "code",
   "execution_count": 170,
   "id": "1463948c",
   "metadata": {},
   "outputs": [
    {
     "name": "stdout",
     "output_type": "stream",
     "text": [
      "<class 'pandas.core.frame.DataFrame'>\n",
      "RangeIndex: 2776 entries, 0 to 2775\n",
      "Data columns (total 2 columns):\n",
      " #   Column        Non-Null Count  Dtype  \n",
      "---  ------        --------------  -----  \n",
      " 0   DATE          2776 non-null   object \n",
      " 1   MORTGAGE30US  2776 non-null   float64\n",
      "dtypes: float64(1), object(1)\n",
      "memory usage: 43.5+ KB\n"
     ]
    }
   ],
   "source": [
    "data.info()"
   ]
  },
  {
   "cell_type": "code",
   "execution_count": 73,
   "id": "f228d83e",
   "metadata": {},
   "outputs": [],
   "source": [
    "data['DATE'] = pd.to_datetime(data['DATE'])\n",
    "\n",
    "# Setting the 'DATE' column as the index\n",
    "data.set_index('DATE', inplace=True)\n",
    "\n",
    "# Resampling the data to monthly frequency, taking the mean of weekly values\n",
    "monthly_data = data.resample('M').mean()\n",
    "\n",
    "# Adjusting the 'DATE' index to the first day of each month\n",
    "monthly_data.index = monthly_data.index.to_period('M').to_timestamp()\n",
    "\n",
    "# Resetting the index to have 'DATE' as a column again\n",
    "monthly_data.reset_index(inplace=True)"
   ]
  },
  {
   "cell_type": "code",
   "execution_count": 74,
   "id": "b37f4c5b",
   "metadata": {},
   "outputs": [
    {
     "data": {
      "text/html": [
       "<div>\n",
       "<style scoped>\n",
       "    .dataframe tbody tr th:only-of-type {\n",
       "        vertical-align: middle;\n",
       "    }\n",
       "\n",
       "    .dataframe tbody tr th {\n",
       "        vertical-align: top;\n",
       "    }\n",
       "\n",
       "    .dataframe thead th {\n",
       "        text-align: right;\n",
       "    }\n",
       "</style>\n",
       "<table border=\"1\" class=\"dataframe\">\n",
       "  <thead>\n",
       "    <tr style=\"text-align: right;\">\n",
       "      <th></th>\n",
       "      <th>DATE</th>\n",
       "      <th>MORTGAGE30US</th>\n",
       "    </tr>\n",
       "  </thead>\n",
       "  <tbody>\n",
       "    <tr>\n",
       "      <th>0</th>\n",
       "      <td>1971-04-01</td>\n",
       "      <td>7.3100</td>\n",
       "    </tr>\n",
       "    <tr>\n",
       "      <th>1</th>\n",
       "      <td>1971-05-01</td>\n",
       "      <td>7.4250</td>\n",
       "    </tr>\n",
       "    <tr>\n",
       "      <th>2</th>\n",
       "      <td>1971-06-01</td>\n",
       "      <td>7.5300</td>\n",
       "    </tr>\n",
       "    <tr>\n",
       "      <th>3</th>\n",
       "      <td>1971-07-01</td>\n",
       "      <td>7.6040</td>\n",
       "    </tr>\n",
       "    <tr>\n",
       "      <th>4</th>\n",
       "      <td>1971-08-01</td>\n",
       "      <td>7.6975</td>\n",
       "    </tr>\n",
       "  </tbody>\n",
       "</table>\n",
       "</div>"
      ],
      "text/plain": [
       "        DATE  MORTGAGE30US\n",
       "0 1971-04-01        7.3100\n",
       "1 1971-05-01        7.4250\n",
       "2 1971-06-01        7.5300\n",
       "3 1971-07-01        7.6040\n",
       "4 1971-08-01        7.6975"
      ]
     },
     "execution_count": 74,
     "metadata": {},
     "output_type": "execute_result"
    }
   ],
   "source": [
    "monthly_data.head()"
   ]
  },
  {
   "cell_type": "code",
   "execution_count": 75,
   "id": "00be1026",
   "metadata": {},
   "outputs": [],
   "source": [
    "# Filtering the DataFrame to keep only 20 years data\n",
    "start_date = '2004-01-01'\n",
    "end_date = '2023-12-01'\n",
    "MG = monthly_data[(monthly_data['DATE'] >= start_date) & (monthly_data['DATE'] <= end_date)]"
   ]
  },
  {
   "cell_type": "code",
   "execution_count": 77,
   "id": "8b5f6961",
   "metadata": {},
   "outputs": [
    {
     "data": {
      "text/html": [
       "<div>\n",
       "<style scoped>\n",
       "    .dataframe tbody tr th:only-of-type {\n",
       "        vertical-align: middle;\n",
       "    }\n",
       "\n",
       "    .dataframe tbody tr th {\n",
       "        vertical-align: top;\n",
       "    }\n",
       "\n",
       "    .dataframe thead th {\n",
       "        text-align: right;\n",
       "    }\n",
       "</style>\n",
       "<table border=\"1\" class=\"dataframe\">\n",
       "  <thead>\n",
       "    <tr style=\"text-align: right;\">\n",
       "      <th></th>\n",
       "      <th>DATE</th>\n",
       "      <th>MORTGAGE30US</th>\n",
       "    </tr>\n",
       "  </thead>\n",
       "  <tbody>\n",
       "    <tr>\n",
       "      <th>628</th>\n",
       "      <td>2023-08-01</td>\n",
       "      <td>7.072</td>\n",
       "    </tr>\n",
       "    <tr>\n",
       "      <th>629</th>\n",
       "      <td>2023-09-01</td>\n",
       "      <td>7.200</td>\n",
       "    </tr>\n",
       "    <tr>\n",
       "      <th>630</th>\n",
       "      <td>2023-10-01</td>\n",
       "      <td>7.620</td>\n",
       "    </tr>\n",
       "    <tr>\n",
       "      <th>631</th>\n",
       "      <td>2023-11-01</td>\n",
       "      <td>7.442</td>\n",
       "    </tr>\n",
       "    <tr>\n",
       "      <th>632</th>\n",
       "      <td>2023-12-01</td>\n",
       "      <td>6.815</td>\n",
       "    </tr>\n",
       "  </tbody>\n",
       "</table>\n",
       "</div>"
      ],
      "text/plain": [
       "          DATE  MORTGAGE30US\n",
       "628 2023-08-01         7.072\n",
       "629 2023-09-01         7.200\n",
       "630 2023-10-01         7.620\n",
       "631 2023-11-01         7.442\n",
       "632 2023-12-01         6.815"
      ]
     },
     "execution_count": 77,
     "metadata": {},
     "output_type": "execute_result"
    }
   ],
   "source": [
    "MG.tail()"
   ]
  },
  {
   "cell_type": "code",
   "execution_count": null,
   "id": "5ccd5da1",
   "metadata": {},
   "outputs": [],
   "source": []
  },
  {
   "cell_type": "markdown",
   "id": "35959836",
   "metadata": {},
   "source": [
    "#### Preprocessing Population (in thousand) data"
   ]
  },
  {
   "cell_type": "code",
   "execution_count": 80,
   "id": "c7169e60",
   "metadata": {},
   "outputs": [
    {
     "data": {
      "text/html": [
       "<div>\n",
       "<style scoped>\n",
       "    .dataframe tbody tr th:only-of-type {\n",
       "        vertical-align: middle;\n",
       "    }\n",
       "\n",
       "    .dataframe tbody tr th {\n",
       "        vertical-align: top;\n",
       "    }\n",
       "\n",
       "    .dataframe thead th {\n",
       "        text-align: right;\n",
       "    }\n",
       "</style>\n",
       "<table border=\"1\" class=\"dataframe\">\n",
       "  <thead>\n",
       "    <tr style=\"text-align: right;\">\n",
       "      <th></th>\n",
       "      <th>DATE</th>\n",
       "      <th>POPTHM</th>\n",
       "    </tr>\n",
       "  </thead>\n",
       "  <tbody>\n",
       "    <tr>\n",
       "      <th>0</th>\n",
       "      <td>1959-01-01</td>\n",
       "      <td>175818.0</td>\n",
       "    </tr>\n",
       "    <tr>\n",
       "      <th>1</th>\n",
       "      <td>1959-02-01</td>\n",
       "      <td>176044.0</td>\n",
       "    </tr>\n",
       "    <tr>\n",
       "      <th>2</th>\n",
       "      <td>1959-03-01</td>\n",
       "      <td>176274.0</td>\n",
       "    </tr>\n",
       "    <tr>\n",
       "      <th>3</th>\n",
       "      <td>1959-04-01</td>\n",
       "      <td>176503.0</td>\n",
       "    </tr>\n",
       "    <tr>\n",
       "      <th>4</th>\n",
       "      <td>1959-05-01</td>\n",
       "      <td>176723.0</td>\n",
       "    </tr>\n",
       "  </tbody>\n",
       "</table>\n",
       "</div>"
      ],
      "text/plain": [
       "         DATE    POPTHM\n",
       "0  1959-01-01  175818.0\n",
       "1  1959-02-01  176044.0\n",
       "2  1959-03-01  176274.0\n",
       "3  1959-04-01  176503.0\n",
       "4  1959-05-01  176723.0"
      ]
     },
     "execution_count": 80,
     "metadata": {},
     "output_type": "execute_result"
    }
   ],
   "source": [
    "#Population in the USA in thousand\n",
    "data = pd.read_csv(\"POPTHM.csv\")\n",
    "data.head()"
   ]
  },
  {
   "cell_type": "code",
   "execution_count": 82,
   "id": "a48b6d76",
   "metadata": {},
   "outputs": [
    {
     "name": "stdout",
     "output_type": "stream",
     "text": [
      "<class 'pandas.core.frame.DataFrame'>\n",
      "RangeIndex: 784 entries, 0 to 783\n",
      "Data columns (total 2 columns):\n",
      " #   Column  Non-Null Count  Dtype  \n",
      "---  ------  --------------  -----  \n",
      " 0   DATE    784 non-null    object \n",
      " 1   POPTHM  784 non-null    float64\n",
      "dtypes: float64(1), object(1)\n",
      "memory usage: 12.4+ KB\n"
     ]
    }
   ],
   "source": [
    "data.info()"
   ]
  },
  {
   "cell_type": "code",
   "execution_count": 83,
   "id": "f2b43d65",
   "metadata": {},
   "outputs": [],
   "source": [
    "data['DATE'] = pd.to_datetime(data['DATE'], format='%Y-%m-%d')\n",
    "\n",
    "# Filtering the DataFrame to keep only 20 years data\n",
    "start_date = '2004-01-01'\n",
    "end_date = '2023-12-01'\n",
    "Pop = data[(data['DATE'] >= start_date) & (data['DATE'] <= end_date)]"
   ]
  },
  {
   "cell_type": "code",
   "execution_count": 85,
   "id": "f6107dec",
   "metadata": {},
   "outputs": [
    {
     "data": {
      "text/html": [
       "<div>\n",
       "<style scoped>\n",
       "    .dataframe tbody tr th:only-of-type {\n",
       "        vertical-align: middle;\n",
       "    }\n",
       "\n",
       "    .dataframe tbody tr th {\n",
       "        vertical-align: top;\n",
       "    }\n",
       "\n",
       "    .dataframe thead th {\n",
       "        text-align: right;\n",
       "    }\n",
       "</style>\n",
       "<table border=\"1\" class=\"dataframe\">\n",
       "  <thead>\n",
       "    <tr style=\"text-align: right;\">\n",
       "      <th></th>\n",
       "      <th>DATE</th>\n",
       "      <th>POPTHM</th>\n",
       "    </tr>\n",
       "  </thead>\n",
       "  <tbody>\n",
       "    <tr>\n",
       "      <th>775</th>\n",
       "      <td>2023-08-01</td>\n",
       "      <td>335431.0</td>\n",
       "    </tr>\n",
       "    <tr>\n",
       "      <th>776</th>\n",
       "      <td>2023-09-01</td>\n",
       "      <td>335612.0</td>\n",
       "    </tr>\n",
       "    <tr>\n",
       "      <th>777</th>\n",
       "      <td>2023-10-01</td>\n",
       "      <td>335773.0</td>\n",
       "    </tr>\n",
       "    <tr>\n",
       "      <th>778</th>\n",
       "      <td>2023-11-01</td>\n",
       "      <td>335925.0</td>\n",
       "    </tr>\n",
       "    <tr>\n",
       "      <th>779</th>\n",
       "      <td>2023-12-01</td>\n",
       "      <td>336070.0</td>\n",
       "    </tr>\n",
       "  </tbody>\n",
       "</table>\n",
       "</div>"
      ],
      "text/plain": [
       "          DATE    POPTHM\n",
       "775 2023-08-01  335431.0\n",
       "776 2023-09-01  335612.0\n",
       "777 2023-10-01  335773.0\n",
       "778 2023-11-01  335925.0\n",
       "779 2023-12-01  336070.0"
      ]
     },
     "execution_count": 85,
     "metadata": {},
     "output_type": "execute_result"
    }
   ],
   "source": [
    "Pop.tail()"
   ]
  },
  {
   "cell_type": "code",
   "execution_count": null,
   "id": "ab9fa0fa",
   "metadata": {},
   "outputs": [],
   "source": []
  },
  {
   "cell_type": "markdown",
   "id": "1f92d96e",
   "metadata": {},
   "source": [
    "#### Preprocessing S&P 500 Monthly Data"
   ]
  },
  {
   "cell_type": "code",
   "execution_count": 86,
   "id": "cd99a9da",
   "metadata": {},
   "outputs": [
    {
     "data": {
      "text/html": [
       "<div>\n",
       "<style scoped>\n",
       "    .dataframe tbody tr th:only-of-type {\n",
       "        vertical-align: middle;\n",
       "    }\n",
       "\n",
       "    .dataframe tbody tr th {\n",
       "        vertical-align: top;\n",
       "    }\n",
       "\n",
       "    .dataframe thead th {\n",
       "        text-align: right;\n",
       "    }\n",
       "</style>\n",
       "<table border=\"1\" class=\"dataframe\">\n",
       "  <thead>\n",
       "    <tr style=\"text-align: right;\">\n",
       "      <th></th>\n",
       "      <th>Date</th>\n",
       "      <th>Open</th>\n",
       "      <th>High</th>\n",
       "      <th>Low</th>\n",
       "      <th>Close</th>\n",
       "      <th>Adj Close</th>\n",
       "      <th>Volume</th>\n",
       "    </tr>\n",
       "  </thead>\n",
       "  <tbody>\n",
       "    <tr>\n",
       "      <th>0</th>\n",
       "      <td>1992-01-01</td>\n",
       "      <td>417.029999</td>\n",
       "      <td>421.179993</td>\n",
       "      <td>408.640015</td>\n",
       "      <td>408.779999</td>\n",
       "      <td>408.779999</td>\n",
       "      <td>5286280000</td>\n",
       "    </tr>\n",
       "    <tr>\n",
       "      <th>1</th>\n",
       "      <td>1992-02-01</td>\n",
       "      <td>408.790009</td>\n",
       "      <td>418.079987</td>\n",
       "      <td>406.339996</td>\n",
       "      <td>412.700012</td>\n",
       "      <td>412.700012</td>\n",
       "      <td>4267610000</td>\n",
       "    </tr>\n",
       "    <tr>\n",
       "      <th>2</th>\n",
       "      <td>1992-03-01</td>\n",
       "      <td>412.679993</td>\n",
       "      <td>413.779999</td>\n",
       "      <td>401.940002</td>\n",
       "      <td>403.690002</td>\n",
       "      <td>403.690002</td>\n",
       "      <td>4066240000</td>\n",
       "    </tr>\n",
       "    <tr>\n",
       "      <th>3</th>\n",
       "      <td>1992-04-01</td>\n",
       "      <td>403.670013</td>\n",
       "      <td>416.279999</td>\n",
       "      <td>392.410004</td>\n",
       "      <td>414.950012</td>\n",
       "      <td>414.950012</td>\n",
       "      <td>4315840000</td>\n",
       "    </tr>\n",
       "    <tr>\n",
       "      <th>4</th>\n",
       "      <td>1992-05-01</td>\n",
       "      <td>414.950012</td>\n",
       "      <td>418.750000</td>\n",
       "      <td>409.850006</td>\n",
       "      <td>415.350006</td>\n",
       "      <td>415.350006</td>\n",
       "      <td>3643980000</td>\n",
       "    </tr>\n",
       "  </tbody>\n",
       "</table>\n",
       "</div>"
      ],
      "text/plain": [
       "         Date        Open        High         Low       Close   Adj Close  \\\n",
       "0  1992-01-01  417.029999  421.179993  408.640015  408.779999  408.779999   \n",
       "1  1992-02-01  408.790009  418.079987  406.339996  412.700012  412.700012   \n",
       "2  1992-03-01  412.679993  413.779999  401.940002  403.690002  403.690002   \n",
       "3  1992-04-01  403.670013  416.279999  392.410004  414.950012  414.950012   \n",
       "4  1992-05-01  414.950012  418.750000  409.850006  415.350006  415.350006   \n",
       "\n",
       "       Volume  \n",
       "0  5286280000  \n",
       "1  4267610000  \n",
       "2  4066240000  \n",
       "3  4315840000  \n",
       "4  3643980000  "
      ]
     },
     "execution_count": 86,
     "metadata": {},
     "output_type": "execute_result"
    }
   ],
   "source": [
    "#S&P500 data Monthly\n",
    "data = pd.read_csv(\"sp500_monthly_data.csv\")\n",
    "data.head()"
   ]
  },
  {
   "cell_type": "code",
   "execution_count": 87,
   "id": "81e9121b",
   "metadata": {},
   "outputs": [
    {
     "name": "stdout",
     "output_type": "stream",
     "text": [
      "<class 'pandas.core.frame.DataFrame'>\n",
      "RangeIndex: 390 entries, 0 to 389\n",
      "Data columns (total 7 columns):\n",
      " #   Column     Non-Null Count  Dtype  \n",
      "---  ------     --------------  -----  \n",
      " 0   Date       390 non-null    object \n",
      " 1   Open       390 non-null    float64\n",
      " 2   High       390 non-null    float64\n",
      " 3   Low        390 non-null    float64\n",
      " 4   Close      390 non-null    float64\n",
      " 5   Adj Close  390 non-null    float64\n",
      " 6   Volume     390 non-null    int64  \n",
      "dtypes: float64(5), int64(1), object(1)\n",
      "memory usage: 21.5+ KB\n"
     ]
    }
   ],
   "source": [
    "data.info()"
   ]
  },
  {
   "cell_type": "markdown",
   "id": "f16ae063",
   "metadata": {},
   "source": [
    "Here, we're using the close price as it is generally considered the most representative value of the S&P 500 for a given month.\n",
    "\n",
    "The close price reflects the end-of-period valuation after all market participants have traded, providing a consolidated view of market sentiment and performance."
   ]
  },
  {
   "cell_type": "code",
   "execution_count": 88,
   "id": "9606bfb0",
   "metadata": {},
   "outputs": [],
   "source": [
    "data.drop(['Open', 'High','Low','Adj Close', 'Volume'], axis=1, inplace= True)"
   ]
  },
  {
   "cell_type": "code",
   "execution_count": 90,
   "id": "60e153c9",
   "metadata": {},
   "outputs": [],
   "source": [
    "data.rename(columns = {'Date':'DATE'}, inplace = True)"
   ]
  },
  {
   "cell_type": "code",
   "execution_count": 91,
   "id": "4f9cdfc2",
   "metadata": {},
   "outputs": [
    {
     "data": {
      "text/html": [
       "<div>\n",
       "<style scoped>\n",
       "    .dataframe tbody tr th:only-of-type {\n",
       "        vertical-align: middle;\n",
       "    }\n",
       "\n",
       "    .dataframe tbody tr th {\n",
       "        vertical-align: top;\n",
       "    }\n",
       "\n",
       "    .dataframe thead th {\n",
       "        text-align: right;\n",
       "    }\n",
       "</style>\n",
       "<table border=\"1\" class=\"dataframe\">\n",
       "  <thead>\n",
       "    <tr style=\"text-align: right;\">\n",
       "      <th></th>\n",
       "      <th>DATE</th>\n",
       "      <th>Close</th>\n",
       "    </tr>\n",
       "  </thead>\n",
       "  <tbody>\n",
       "    <tr>\n",
       "      <th>0</th>\n",
       "      <td>1992-01-01</td>\n",
       "      <td>408.779999</td>\n",
       "    </tr>\n",
       "    <tr>\n",
       "      <th>1</th>\n",
       "      <td>1992-02-01</td>\n",
       "      <td>412.700012</td>\n",
       "    </tr>\n",
       "    <tr>\n",
       "      <th>2</th>\n",
       "      <td>1992-03-01</td>\n",
       "      <td>403.690002</td>\n",
       "    </tr>\n",
       "    <tr>\n",
       "      <th>3</th>\n",
       "      <td>1992-04-01</td>\n",
       "      <td>414.950012</td>\n",
       "    </tr>\n",
       "    <tr>\n",
       "      <th>4</th>\n",
       "      <td>1992-05-01</td>\n",
       "      <td>415.350006</td>\n",
       "    </tr>\n",
       "  </tbody>\n",
       "</table>\n",
       "</div>"
      ],
      "text/plain": [
       "         DATE       Close\n",
       "0  1992-01-01  408.779999\n",
       "1  1992-02-01  412.700012\n",
       "2  1992-03-01  403.690002\n",
       "3  1992-04-01  414.950012\n",
       "4  1992-05-01  415.350006"
      ]
     },
     "execution_count": 91,
     "metadata": {},
     "output_type": "execute_result"
    }
   ],
   "source": [
    "data.head()"
   ]
  },
  {
   "cell_type": "code",
   "execution_count": 92,
   "id": "ac13dbaf",
   "metadata": {},
   "outputs": [],
   "source": [
    "data['DATE'] = pd.to_datetime(data['DATE'], format='%Y-%m-%d')\n",
    "\n",
    "# Filtering the DataFrame to keep only 20 years data\n",
    "start_date = '2004-01-01'\n",
    "end_date = '2023-12-01'\n",
    "SNP = data[(data['DATE'] >= start_date) & (data['DATE'] <= end_date)]"
   ]
  },
  {
   "cell_type": "code",
   "execution_count": 94,
   "id": "794295ae",
   "metadata": {},
   "outputs": [
    {
     "data": {
      "text/html": [
       "<div>\n",
       "<style scoped>\n",
       "    .dataframe tbody tr th:only-of-type {\n",
       "        vertical-align: middle;\n",
       "    }\n",
       "\n",
       "    .dataframe tbody tr th {\n",
       "        vertical-align: top;\n",
       "    }\n",
       "\n",
       "    .dataframe thead th {\n",
       "        text-align: right;\n",
       "    }\n",
       "</style>\n",
       "<table border=\"1\" class=\"dataframe\">\n",
       "  <thead>\n",
       "    <tr style=\"text-align: right;\">\n",
       "      <th></th>\n",
       "      <th>DATE</th>\n",
       "      <th>Close</th>\n",
       "    </tr>\n",
       "  </thead>\n",
       "  <tbody>\n",
       "    <tr>\n",
       "      <th>379</th>\n",
       "      <td>2023-08-01</td>\n",
       "      <td>4507.660156</td>\n",
       "    </tr>\n",
       "    <tr>\n",
       "      <th>380</th>\n",
       "      <td>2023-09-01</td>\n",
       "      <td>4288.049805</td>\n",
       "    </tr>\n",
       "    <tr>\n",
       "      <th>381</th>\n",
       "      <td>2023-10-01</td>\n",
       "      <td>4193.799805</td>\n",
       "    </tr>\n",
       "    <tr>\n",
       "      <th>382</th>\n",
       "      <td>2023-11-01</td>\n",
       "      <td>4567.799805</td>\n",
       "    </tr>\n",
       "    <tr>\n",
       "      <th>383</th>\n",
       "      <td>2023-12-01</td>\n",
       "      <td>4769.830078</td>\n",
       "    </tr>\n",
       "  </tbody>\n",
       "</table>\n",
       "</div>"
      ],
      "text/plain": [
       "          DATE        Close\n",
       "379 2023-08-01  4507.660156\n",
       "380 2023-09-01  4288.049805\n",
       "381 2023-10-01  4193.799805\n",
       "382 2023-11-01  4567.799805\n",
       "383 2023-12-01  4769.830078"
      ]
     },
     "execution_count": 94,
     "metadata": {},
     "output_type": "execute_result"
    }
   ],
   "source": [
    "SNP.tail()"
   ]
  },
  {
   "cell_type": "code",
   "execution_count": null,
   "id": "ad572ecf",
   "metadata": {},
   "outputs": [],
   "source": []
  },
  {
   "cell_type": "markdown",
   "id": "1c02aa1f",
   "metadata": {},
   "source": [
    "#### Preprocessing Unemployment Rate data"
   ]
  },
  {
   "cell_type": "code",
   "execution_count": 95,
   "id": "29189938",
   "metadata": {},
   "outputs": [
    {
     "data": {
      "text/html": [
       "<div>\n",
       "<style scoped>\n",
       "    .dataframe tbody tr th:only-of-type {\n",
       "        vertical-align: middle;\n",
       "    }\n",
       "\n",
       "    .dataframe tbody tr th {\n",
       "        vertical-align: top;\n",
       "    }\n",
       "\n",
       "    .dataframe thead th {\n",
       "        text-align: right;\n",
       "    }\n",
       "</style>\n",
       "<table border=\"1\" class=\"dataframe\">\n",
       "  <thead>\n",
       "    <tr style=\"text-align: right;\">\n",
       "      <th></th>\n",
       "      <th>DATE</th>\n",
       "      <th>UNRATE</th>\n",
       "    </tr>\n",
       "  </thead>\n",
       "  <tbody>\n",
       "    <tr>\n",
       "      <th>0</th>\n",
       "      <td>1948-01-01</td>\n",
       "      <td>3.4</td>\n",
       "    </tr>\n",
       "    <tr>\n",
       "      <th>1</th>\n",
       "      <td>1948-02-01</td>\n",
       "      <td>3.8</td>\n",
       "    </tr>\n",
       "    <tr>\n",
       "      <th>2</th>\n",
       "      <td>1948-03-01</td>\n",
       "      <td>4.0</td>\n",
       "    </tr>\n",
       "    <tr>\n",
       "      <th>3</th>\n",
       "      <td>1948-04-01</td>\n",
       "      <td>3.9</td>\n",
       "    </tr>\n",
       "    <tr>\n",
       "      <th>4</th>\n",
       "      <td>1948-05-01</td>\n",
       "      <td>3.5</td>\n",
       "    </tr>\n",
       "  </tbody>\n",
       "</table>\n",
       "</div>"
      ],
      "text/plain": [
       "         DATE  UNRATE\n",
       "0  1948-01-01     3.4\n",
       "1  1948-02-01     3.8\n",
       "2  1948-03-01     4.0\n",
       "3  1948-04-01     3.9\n",
       "4  1948-05-01     3.5"
      ]
     },
     "execution_count": 95,
     "metadata": {},
     "output_type": "execute_result"
    }
   ],
   "source": [
    "#Unemployment Rate Monthly\n",
    "data = pd.read_csv('UNRATE.csv')\n",
    "data.head()"
   ]
  },
  {
   "cell_type": "code",
   "execution_count": 96,
   "id": "08991d63",
   "metadata": {},
   "outputs": [
    {
     "name": "stdout",
     "output_type": "stream",
     "text": [
      "<class 'pandas.core.frame.DataFrame'>\n",
      "RangeIndex: 917 entries, 0 to 916\n",
      "Data columns (total 2 columns):\n",
      " #   Column  Non-Null Count  Dtype  \n",
      "---  ------  --------------  -----  \n",
      " 0   DATE    917 non-null    object \n",
      " 1   UNRATE  917 non-null    float64\n",
      "dtypes: float64(1), object(1)\n",
      "memory usage: 14.5+ KB\n"
     ]
    }
   ],
   "source": [
    "data.info()"
   ]
  },
  {
   "cell_type": "code",
   "execution_count": 97,
   "id": "f98d8c71",
   "metadata": {},
   "outputs": [],
   "source": [
    "data['DATE'] = pd.to_datetime(data['DATE'], format='%Y-%m-%d')\n",
    "\n",
    "# Filtering the DataFrame to keep only 20 years data\n",
    "start_date = '2004-01-01'\n",
    "end_date = '2023-12-01'\n",
    "UNP = data[(data['DATE'] >= start_date) & (data['DATE'] <= end_date)]"
   ]
  },
  {
   "cell_type": "code",
   "execution_count": 99,
   "id": "16cfaf7d",
   "metadata": {},
   "outputs": [
    {
     "data": {
      "text/html": [
       "<div>\n",
       "<style scoped>\n",
       "    .dataframe tbody tr th:only-of-type {\n",
       "        vertical-align: middle;\n",
       "    }\n",
       "\n",
       "    .dataframe tbody tr th {\n",
       "        vertical-align: top;\n",
       "    }\n",
       "\n",
       "    .dataframe thead th {\n",
       "        text-align: right;\n",
       "    }\n",
       "</style>\n",
       "<table border=\"1\" class=\"dataframe\">\n",
       "  <thead>\n",
       "    <tr style=\"text-align: right;\">\n",
       "      <th></th>\n",
       "      <th>DATE</th>\n",
       "      <th>UNRATE</th>\n",
       "    </tr>\n",
       "  </thead>\n",
       "  <tbody>\n",
       "    <tr>\n",
       "      <th>907</th>\n",
       "      <td>2023-08-01</td>\n",
       "      <td>3.8</td>\n",
       "    </tr>\n",
       "    <tr>\n",
       "      <th>908</th>\n",
       "      <td>2023-09-01</td>\n",
       "      <td>3.8</td>\n",
       "    </tr>\n",
       "    <tr>\n",
       "      <th>909</th>\n",
       "      <td>2023-10-01</td>\n",
       "      <td>3.8</td>\n",
       "    </tr>\n",
       "    <tr>\n",
       "      <th>910</th>\n",
       "      <td>2023-11-01</td>\n",
       "      <td>3.7</td>\n",
       "    </tr>\n",
       "    <tr>\n",
       "      <th>911</th>\n",
       "      <td>2023-12-01</td>\n",
       "      <td>3.7</td>\n",
       "    </tr>\n",
       "  </tbody>\n",
       "</table>\n",
       "</div>"
      ],
      "text/plain": [
       "          DATE  UNRATE\n",
       "907 2023-08-01     3.8\n",
       "908 2023-09-01     3.8\n",
       "909 2023-10-01     3.8\n",
       "910 2023-11-01     3.7\n",
       "911 2023-12-01     3.7"
      ]
     },
     "execution_count": 99,
     "metadata": {},
     "output_type": "execute_result"
    }
   ],
   "source": [
    "UNP.tail()"
   ]
  },
  {
   "cell_type": "code",
   "execution_count": null,
   "id": "b5c97bf1",
   "metadata": {},
   "outputs": [],
   "source": []
  },
  {
   "cell_type": "markdown",
   "id": "e8e2adb7",
   "metadata": {},
   "source": [
    "#### Merging all the dataframes to create a single dataframe"
   ]
  },
  {
   "cell_type": "code",
   "execution_count": 171,
   "id": "1cf89b55",
   "metadata": {},
   "outputs": [],
   "source": [
    "all_data = [CSHPI, CPI, FEDFND, RGDP, MG, Pop, SNP, UNP, DIncome]"
   ]
  },
  {
   "cell_type": "code",
   "execution_count": 172,
   "id": "528d2ece",
   "metadata": {},
   "outputs": [],
   "source": [
    "merged_data = all_data[0]"
   ]
  },
  {
   "cell_type": "code",
   "execution_count": 173,
   "id": "75303a6d",
   "metadata": {},
   "outputs": [],
   "source": [
    "# Merging each subsequent DataFrame\n",
    "for data in all_data[1:]:\n",
    "    merged_data = pd.merge(merged_data, data, on='DATE')"
   ]
  },
  {
   "cell_type": "code",
   "execution_count": 174,
   "id": "88f66476",
   "metadata": {},
   "outputs": [
    {
     "name": "stdout",
     "output_type": "stream",
     "text": [
      "        DATE  CSUSHPISA  CPIAUCSL  FEDFUNDS  Monthly Real GDP Index  \\\n",
      "0 2004-01-01    141.646     186.3      1.00               15134.366   \n",
      "1 2004-02-01    143.191     186.7      1.01               15258.478   \n",
      "2 2004-03-01    145.058     187.1      1.00               15355.141   \n",
      "3 2004-04-01    146.592     187.4      1.00               15311.370   \n",
      "4 2004-05-01    148.185     188.2      1.00               15446.432   \n",
      "\n",
      "   MORTGAGE30US    POPTHM        Close  UNRATE  DIncome  \n",
      "0        5.7125  292046.0  1131.130005     5.7  37840.0  \n",
      "1        5.6350  292230.0  1144.939941     5.6  37884.0  \n",
      "2        5.4450  292434.0  1126.209961     5.8  38011.0  \n",
      "3        5.8300  292651.0  1107.300049     5.6  38111.0  \n",
      "4        6.2700  292872.0  1120.680054     5.6  38272.0  \n"
     ]
    }
   ],
   "source": [
    "# Displaying the first few rows of the merged DataFrame to verify\n",
    "print(merged_data.head())"
   ]
  },
  {
   "cell_type": "code",
   "execution_count": 175,
   "id": "3b2ade52",
   "metadata": {},
   "outputs": [],
   "source": [
    "ot_file_name = 'HousePriceData.csv'\n",
    "merged_data.to_csv(ot_file_name, index=False)"
   ]
  },
  {
   "cell_type": "code",
   "execution_count": null,
   "id": "cfc675d0",
   "metadata": {},
   "outputs": [],
   "source": []
  },
  {
   "cell_type": "markdown",
   "id": "fb7f166e",
   "metadata": {},
   "source": [
    "#### Renaming Columns of Merged Dataframe"
   ]
  },
  {
   "cell_type": "code",
   "execution_count": 176,
   "id": "4b8da7d3",
   "metadata": {},
   "outputs": [
    {
     "data": {
      "text/html": [
       "<div>\n",
       "<style scoped>\n",
       "    .dataframe tbody tr th:only-of-type {\n",
       "        vertical-align: middle;\n",
       "    }\n",
       "\n",
       "    .dataframe tbody tr th {\n",
       "        vertical-align: top;\n",
       "    }\n",
       "\n",
       "    .dataframe thead th {\n",
       "        text-align: right;\n",
       "    }\n",
       "</style>\n",
       "<table border=\"1\" class=\"dataframe\">\n",
       "  <thead>\n",
       "    <tr style=\"text-align: right;\">\n",
       "      <th></th>\n",
       "      <th>DATE</th>\n",
       "      <th>CSUSHPISA</th>\n",
       "      <th>CPIAUCSL</th>\n",
       "      <th>FEDFUNDS</th>\n",
       "      <th>Monthly Real GDP Index</th>\n",
       "      <th>MORTGAGE30US</th>\n",
       "      <th>POPTHM</th>\n",
       "      <th>Close</th>\n",
       "      <th>UNRATE</th>\n",
       "      <th>DIncome</th>\n",
       "    </tr>\n",
       "  </thead>\n",
       "  <tbody>\n",
       "    <tr>\n",
       "      <th>0</th>\n",
       "      <td>2004-01-01</td>\n",
       "      <td>141.646</td>\n",
       "      <td>186.3</td>\n",
       "      <td>1.00</td>\n",
       "      <td>15134.366</td>\n",
       "      <td>5.7125</td>\n",
       "      <td>292046.0</td>\n",
       "      <td>1131.130005</td>\n",
       "      <td>5.7</td>\n",
       "      <td>37840.0</td>\n",
       "    </tr>\n",
       "    <tr>\n",
       "      <th>1</th>\n",
       "      <td>2004-02-01</td>\n",
       "      <td>143.191</td>\n",
       "      <td>186.7</td>\n",
       "      <td>1.01</td>\n",
       "      <td>15258.478</td>\n",
       "      <td>5.6350</td>\n",
       "      <td>292230.0</td>\n",
       "      <td>1144.939941</td>\n",
       "      <td>5.6</td>\n",
       "      <td>37884.0</td>\n",
       "    </tr>\n",
       "    <tr>\n",
       "      <th>2</th>\n",
       "      <td>2004-03-01</td>\n",
       "      <td>145.058</td>\n",
       "      <td>187.1</td>\n",
       "      <td>1.00</td>\n",
       "      <td>15355.141</td>\n",
       "      <td>5.4450</td>\n",
       "      <td>292434.0</td>\n",
       "      <td>1126.209961</td>\n",
       "      <td>5.8</td>\n",
       "      <td>38011.0</td>\n",
       "    </tr>\n",
       "    <tr>\n",
       "      <th>3</th>\n",
       "      <td>2004-04-01</td>\n",
       "      <td>146.592</td>\n",
       "      <td>187.4</td>\n",
       "      <td>1.00</td>\n",
       "      <td>15311.370</td>\n",
       "      <td>5.8300</td>\n",
       "      <td>292651.0</td>\n",
       "      <td>1107.300049</td>\n",
       "      <td>5.6</td>\n",
       "      <td>38111.0</td>\n",
       "    </tr>\n",
       "    <tr>\n",
       "      <th>4</th>\n",
       "      <td>2004-05-01</td>\n",
       "      <td>148.185</td>\n",
       "      <td>188.2</td>\n",
       "      <td>1.00</td>\n",
       "      <td>15446.432</td>\n",
       "      <td>6.2700</td>\n",
       "      <td>292872.0</td>\n",
       "      <td>1120.680054</td>\n",
       "      <td>5.6</td>\n",
       "      <td>38272.0</td>\n",
       "    </tr>\n",
       "  </tbody>\n",
       "</table>\n",
       "</div>"
      ],
      "text/plain": [
       "         DATE  CSUSHPISA  CPIAUCSL  FEDFUNDS  Monthly Real GDP Index  \\\n",
       "0  2004-01-01    141.646     186.3      1.00               15134.366   \n",
       "1  2004-02-01    143.191     186.7      1.01               15258.478   \n",
       "2  2004-03-01    145.058     187.1      1.00               15355.141   \n",
       "3  2004-04-01    146.592     187.4      1.00               15311.370   \n",
       "4  2004-05-01    148.185     188.2      1.00               15446.432   \n",
       "\n",
       "   MORTGAGE30US    POPTHM        Close  UNRATE  DIncome  \n",
       "0        5.7125  292046.0  1131.130005     5.7  37840.0  \n",
       "1        5.6350  292230.0  1144.939941     5.6  37884.0  \n",
       "2        5.4450  292434.0  1126.209961     5.8  38011.0  \n",
       "3        5.8300  292651.0  1107.300049     5.6  38111.0  \n",
       "4        6.2700  292872.0  1120.680054     5.6  38272.0  "
      ]
     },
     "execution_count": 176,
     "metadata": {},
     "output_type": "execute_result"
    }
   ],
   "source": [
    "NewData = pd.read_csv('HousePriceData.csv')\n",
    "NewData.head()"
   ]
  },
  {
   "cell_type": "code",
   "execution_count": 177,
   "id": "314decaa",
   "metadata": {},
   "outputs": [],
   "source": [
    "NewData.rename(columns = {'CSUSHPISA':'Case-ShillerHPI', 'CPIAUCSL':'CPI', 'POPTHM': 'Population(thousands)', 'Close':'S&P500 Close'}, inplace = True)"
   ]
  },
  {
   "cell_type": "code",
   "execution_count": 178,
   "id": "b6272d19",
   "metadata": {},
   "outputs": [
    {
     "data": {
      "text/html": [
       "<div>\n",
       "<style scoped>\n",
       "    .dataframe tbody tr th:only-of-type {\n",
       "        vertical-align: middle;\n",
       "    }\n",
       "\n",
       "    .dataframe tbody tr th {\n",
       "        vertical-align: top;\n",
       "    }\n",
       "\n",
       "    .dataframe thead th {\n",
       "        text-align: right;\n",
       "    }\n",
       "</style>\n",
       "<table border=\"1\" class=\"dataframe\">\n",
       "  <thead>\n",
       "    <tr style=\"text-align: right;\">\n",
       "      <th></th>\n",
       "      <th>DATE</th>\n",
       "      <th>Case-ShillerHPI</th>\n",
       "      <th>CPI</th>\n",
       "      <th>FEDFUNDS</th>\n",
       "      <th>Monthly Real GDP Index</th>\n",
       "      <th>MORTGAGE30US</th>\n",
       "      <th>Population(thousands)</th>\n",
       "      <th>S&amp;P500 Close</th>\n",
       "      <th>UNRATE</th>\n",
       "      <th>DIncome</th>\n",
       "    </tr>\n",
       "  </thead>\n",
       "  <tbody>\n",
       "    <tr>\n",
       "      <th>0</th>\n",
       "      <td>2004-01-01</td>\n",
       "      <td>141.646</td>\n",
       "      <td>186.3</td>\n",
       "      <td>1.00</td>\n",
       "      <td>15134.366</td>\n",
       "      <td>5.7125</td>\n",
       "      <td>292046.0</td>\n",
       "      <td>1131.130005</td>\n",
       "      <td>5.7</td>\n",
       "      <td>37840.0</td>\n",
       "    </tr>\n",
       "    <tr>\n",
       "      <th>1</th>\n",
       "      <td>2004-02-01</td>\n",
       "      <td>143.191</td>\n",
       "      <td>186.7</td>\n",
       "      <td>1.01</td>\n",
       "      <td>15258.478</td>\n",
       "      <td>5.6350</td>\n",
       "      <td>292230.0</td>\n",
       "      <td>1144.939941</td>\n",
       "      <td>5.6</td>\n",
       "      <td>37884.0</td>\n",
       "    </tr>\n",
       "    <tr>\n",
       "      <th>2</th>\n",
       "      <td>2004-03-01</td>\n",
       "      <td>145.058</td>\n",
       "      <td>187.1</td>\n",
       "      <td>1.00</td>\n",
       "      <td>15355.141</td>\n",
       "      <td>5.4450</td>\n",
       "      <td>292434.0</td>\n",
       "      <td>1126.209961</td>\n",
       "      <td>5.8</td>\n",
       "      <td>38011.0</td>\n",
       "    </tr>\n",
       "    <tr>\n",
       "      <th>3</th>\n",
       "      <td>2004-04-01</td>\n",
       "      <td>146.592</td>\n",
       "      <td>187.4</td>\n",
       "      <td>1.00</td>\n",
       "      <td>15311.370</td>\n",
       "      <td>5.8300</td>\n",
       "      <td>292651.0</td>\n",
       "      <td>1107.300049</td>\n",
       "      <td>5.6</td>\n",
       "      <td>38111.0</td>\n",
       "    </tr>\n",
       "    <tr>\n",
       "      <th>4</th>\n",
       "      <td>2004-05-01</td>\n",
       "      <td>148.185</td>\n",
       "      <td>188.2</td>\n",
       "      <td>1.00</td>\n",
       "      <td>15446.432</td>\n",
       "      <td>6.2700</td>\n",
       "      <td>292872.0</td>\n",
       "      <td>1120.680054</td>\n",
       "      <td>5.6</td>\n",
       "      <td>38272.0</td>\n",
       "    </tr>\n",
       "  </tbody>\n",
       "</table>\n",
       "</div>"
      ],
      "text/plain": [
       "         DATE  Case-ShillerHPI    CPI  FEDFUNDS  Monthly Real GDP Index  \\\n",
       "0  2004-01-01          141.646  186.3      1.00               15134.366   \n",
       "1  2004-02-01          143.191  186.7      1.01               15258.478   \n",
       "2  2004-03-01          145.058  187.1      1.00               15355.141   \n",
       "3  2004-04-01          146.592  187.4      1.00               15311.370   \n",
       "4  2004-05-01          148.185  188.2      1.00               15446.432   \n",
       "\n",
       "   MORTGAGE30US  Population(thousands)  S&P500 Close  UNRATE  DIncome  \n",
       "0        5.7125               292046.0   1131.130005     5.7  37840.0  \n",
       "1        5.6350               292230.0   1144.939941     5.6  37884.0  \n",
       "2        5.4450               292434.0   1126.209961     5.8  38011.0  \n",
       "3        5.8300               292651.0   1107.300049     5.6  38111.0  \n",
       "4        6.2700               292872.0   1120.680054     5.6  38272.0  "
      ]
     },
     "execution_count": 178,
     "metadata": {},
     "output_type": "execute_result"
    }
   ],
   "source": [
    "NewData.head()"
   ]
  },
  {
   "cell_type": "code",
   "execution_count": 179,
   "id": "a4f15933",
   "metadata": {},
   "outputs": [],
   "source": [
    "ot_file_name = 'HousePriceIndexData.csv'\n",
    "NewData.to_csv(ot_file_name, index=False)"
   ]
  },
  {
   "cell_type": "code",
   "execution_count": null,
   "id": "37175195",
   "metadata": {},
   "outputs": [],
   "source": []
  }
 ],
 "metadata": {
  "kernelspec": {
   "display_name": "Python 3 (ipykernel)",
   "language": "python",
   "name": "python3"
  },
  "language_info": {
   "codemirror_mode": {
    "name": "ipython",
    "version": 3
   },
   "file_extension": ".py",
   "mimetype": "text/x-python",
   "name": "python",
   "nbconvert_exporter": "python",
   "pygments_lexer": "ipython3",
   "version": "3.11.5"
  }
 },
 "nbformat": 4,
 "nbformat_minor": 5
}
